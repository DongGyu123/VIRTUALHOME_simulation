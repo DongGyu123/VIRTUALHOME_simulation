{
 "cells": [
  {
   "cell_type": "code",
   "execution_count": 23,
   "id": "543ecaa4-de99-4d09-82cd-def93b72c0d3",
   "metadata": {},
   "outputs": [],
   "source": [
    "from collections import Counter\n",
    "import pandas as pd\n",
    "import seaborn as sns\n",
    "import matplotlib.pyplot as plt\n",
    "import json\n",
    "import glob"
   ]
  },
  {
   "cell_type": "code",
   "execution_count": 55,
   "id": "ab9dfac5-c600-4d00-a570-362de07ac84d",
   "metadata": {},
   "outputs": [
    {
     "ename": "KeyError",
     "evalue": "0",
     "output_type": "error",
     "traceback": [
      "\u001b[1;31m---------------------------------------------------------------------------\u001b[0m",
      "\u001b[1;31mKeyError\u001b[0m                                  Traceback (most recent call last)",
      "Cell \u001b[1;32mIn[55], line 8\u001b[0m\n\u001b[0;32m      6\u001b[0m json_files \u001b[38;5;241m=\u001b[39m glob\u001b[38;5;241m.\u001b[39mglob(\u001b[38;5;124mf\u001b[39m\u001b[38;5;124m\"\u001b[39m\u001b[38;5;132;01m{\u001b[39;00mgraph_path\u001b[38;5;132;01m}\u001b[39;00m\u001b[38;5;130;01m\\\\\u001b[39;00m\u001b[38;5;124mgraph_*.json\u001b[39m\u001b[38;5;124m\"\u001b[39m)\n\u001b[0;32m      7\u001b[0m json_contents \u001b[38;5;241m=\u001b[39m [json\u001b[38;5;241m.\u001b[39mload(\u001b[38;5;28mopen\u001b[39m(file_path, \u001b[38;5;124m'\u001b[39m\u001b[38;5;124mr\u001b[39m\u001b[38;5;124m'\u001b[39m)) \u001b[38;5;28;01mfor\u001b[39;00m file_path \u001b[38;5;129;01min\u001b[39;00m json_files]\n\u001b[1;32m----> 8\u001b[0m \u001b[38;5;28mprint\u001b[39m(\u001b[43mjson_contents\u001b[49m\u001b[43m[\u001b[49m\u001b[38;5;241;43m0\u001b[39;49m\u001b[43m]\u001b[49m\u001b[43m[\u001b[49m\u001b[38;5;241;43m0\u001b[39;49m\u001b[43m]\u001b[49m)\n\u001b[0;32m      9\u001b[0m room_class_names \u001b[38;5;241m=\u001b[39m [\n\u001b[0;32m     10\u001b[0m     obj\u001b[38;5;241m.\u001b[39mget(\u001b[38;5;124m'\u001b[39m\u001b[38;5;124mclass_name\u001b[39m\u001b[38;5;124m'\u001b[39m)\n\u001b[0;32m     11\u001b[0m     \u001b[38;5;28;01mfor\u001b[39;00m json_content \u001b[38;5;129;01min\u001b[39;00m json_contents\n\u001b[0;32m     12\u001b[0m     \u001b[38;5;28;01mfor\u001b[39;00m obj \u001b[38;5;129;01min\u001b[39;00m json_content\u001b[38;5;241m.\u001b[39mget(\u001b[38;5;124m'\u001b[39m\u001b[38;5;124mnodes\u001b[39m\u001b[38;5;124m'\u001b[39m, [])\n\u001b[0;32m     13\u001b[0m     \u001b[38;5;28;01mif\u001b[39;00m obj\u001b[38;5;241m.\u001b[39mget(\u001b[38;5;124m'\u001b[39m\u001b[38;5;124mcategory\u001b[39m\u001b[38;5;124m'\u001b[39m) \u001b[38;5;241m==\u001b[39m \u001b[38;5;124m'\u001b[39m\u001b[38;5;124mRooms\u001b[39m\u001b[38;5;124m'\u001b[39m\n\u001b[0;32m     14\u001b[0m ]\n\u001b[0;32m     17\u001b[0m \u001b[38;5;28;01mfor\u001b[39;00m i \u001b[38;5;129;01min\u001b[39;00m \u001b[38;5;28mrange\u001b[39m(\u001b[38;5;241m0\u001b[39m, \u001b[38;5;241m49\u001b[39m, \u001b[38;5;241m2\u001b[39m):\n",
      "\u001b[1;31mKeyError\u001b[0m: 0"
     ]
    }
   ],
   "source": [
    "words=[]\n",
    "Count=[]\n",
    "output_image_path = r'C:\\Users\\ACSL\\Desktop\\JW\\virtualhome-master\\virtualhome-master\\virtualhome\\simulation\\build_camera\\Output\\word_frequency_graph.png'\n",
    "graph_path = r'C:\\Users\\ACSL\\Desktop\\JW\\virtualhome-master\\virtualhome-master\\virtualhome\\simulation\\build_camera\\Output\\graphs'\n",
    "\n",
    "json_files = glob.glob(f\"{graph_path}\\\\graph_*.json\")\n",
    "json_contents = [json.load(open(file_path, 'r')) for file_path in json_files]\n",
    "room_class_names = [\n",
    "    obj.get('class_name')\n",
    "    for json_content in json_contents\n",
    "    for obj in json_content.get('nodes', [])\n",
    "    if obj.get('category') == 'Rooms'\n",
    "]\n",
    "\n",
    "\n",
    "for i in range(0, 49, 2):\n",
    "    for j in range(10):\n",
    "        file_path =file_path = r'C:\\Users\\ACSL\\Desktop\\JW\\virtualhome-master\\virtualhome-master\\virtualhome\\simulation\\build_camera\\Output\\{0}\\script{1}\\1\\ftaa_script{1}.txt'.format(i, j)\n",
    "        with open(file_path, 'r') as file:\n",
    "          content = file.read()\n",
    "          new_words = [word.strip() for word in content.split() if word.isalpha() and word!='WALK']\n",
    "          words+=new_words\n",
    "          Count.append(len(new_words))\n",
    "    \n",
    "word_counts = Counter(words)\n",
    "fig, ax = plt.subplots(figsize=(16, 6))\n",
    "ax.bar(word_counts.keys(), word_counts.values())\n",
    "plt.xlabel('Action')\n",
    "plt.ylabel('Frequency')\n",
    "counts_action = Counter(Count)\n",
    "fig, ax = plt.subplots(figsize=(16, 6))\n",
    "plt.bar(counts_action.keys(), counts_action.values())\n",
    "plt.xlabel('Action')\n",
    "plt.ylabel('Count')\n",
    "counts_room = Counter(room_class_names)\n",
    "fig, ax = plt.subplots(figsize=(16, 6))\n",
    "divided_values = [value / 10 for value in counts_room.values()]\n",
    "plt.bar(counts_room.keys(), divided_values)\n",
    "plt.xlabel('Action_Rooms')\n",
    "plt.ylabel('Count')\n",
    "plt.tight_layout()\n",
    "plt.show()"
   ]
  },
  {
   "cell_type": "code",
   "execution_count": null,
   "id": "99e54294-f7db-4f1b-b52b-6e826b7b551f",
   "metadata": {},
   "outputs": [],
   "source": []
  }
 ],
 "metadata": {
  "kernelspec": {
   "display_name": "Python 3 (ipykernel)",
   "language": "python",
   "name": "python3"
  },
  "language_info": {
   "codemirror_mode": {
    "name": "ipython",
    "version": 3
   },
   "file_extension": ".py",
   "mimetype": "text/x-python",
   "name": "python",
   "nbconvert_exporter": "python",
   "pygments_lexer": "ipython3",
   "version": "3.8.10"
  }
 },
 "nbformat": 4,
 "nbformat_minor": 5
}
